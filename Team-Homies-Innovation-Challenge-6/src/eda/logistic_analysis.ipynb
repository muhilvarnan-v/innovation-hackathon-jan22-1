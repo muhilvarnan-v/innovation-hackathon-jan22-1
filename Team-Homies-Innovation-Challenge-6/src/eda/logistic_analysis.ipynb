{
 "cells": [
  {
   "cell_type": "code",
   "execution_count": 1,
   "metadata": {},
   "outputs": [],
   "source": [
    "import pandas as pd\n",
    "import os"
   ]
  },
  {
   "cell_type": "code",
   "execution_count": 2,
   "metadata": {},
   "outputs": [
    {
     "name": "stdout",
     "output_type": "stream",
     "text": [
      "/Users/mubasir/Desktop/ONDC-hackathon\n",
      "/Users/mubasir/Desktop/ONDC-hackathon/data\n",
      "\u001b[1m\u001b[36mstore_data\u001b[m\u001b[m                    stores_inventory_Logistic.csv\n",
      "stores_inventory-Sheet.csv\n"
     ]
    }
   ],
   "source": [
    "#Run this shell once\n",
    "%cd ../..\n",
    "%cd data\n",
    "!ls\n"
   ]
  },
  {
   "cell_type": "code",
   "execution_count": 3,
   "metadata": {},
   "outputs": [
    {
     "data": {
      "text/html": [
       "<div>\n",
       "<style scoped>\n",
       "    .dataframe tbody tr th:only-of-type {\n",
       "        vertical-align: middle;\n",
       "    }\n",
       "\n",
       "    .dataframe tbody tr th {\n",
       "        vertical-align: top;\n",
       "    }\n",
       "\n",
       "    .dataframe thead th {\n",
       "        text-align: right;\n",
       "    }\n",
       "</style>\n",
       "<table border=\"1\" class=\"dataframe\">\n",
       "  <thead>\n",
       "    <tr style=\"text-align: right;\">\n",
       "      <th></th>\n",
       "      <th>Date</th>\n",
       "      <th>Logistic Partner</th>\n",
       "      <th>Distance in km</th>\n",
       "      <th>City</th>\n",
       "      <th>weather</th>\n",
       "      <th>Wieght</th>\n",
       "      <th>Holiday</th>\n",
       "      <th>Population Density</th>\n",
       "      <th>Charge / Cost in Rupees</th>\n",
       "    </tr>\n",
       "  </thead>\n",
       "  <tbody>\n",
       "    <tr>\n",
       "      <th>0</th>\n",
       "      <td>01/01/2021</td>\n",
       "      <td>E-Kart</td>\n",
       "      <td>4</td>\n",
       "      <td>Mumbai</td>\n",
       "      <td>winter</td>\n",
       "      <td>25</td>\n",
       "      <td>no</td>\n",
       "      <td>25357</td>\n",
       "      <td>149.357</td>\n",
       "    </tr>\n",
       "    <tr>\n",
       "      <th>1</th>\n",
       "      <td>01/02/2021</td>\n",
       "      <td>E-Kart</td>\n",
       "      <td>4</td>\n",
       "      <td>Mumbai</td>\n",
       "      <td>winter</td>\n",
       "      <td>20</td>\n",
       "      <td>no</td>\n",
       "      <td>25357</td>\n",
       "      <td>129.357</td>\n",
       "    </tr>\n",
       "    <tr>\n",
       "      <th>2</th>\n",
       "      <td>01/03/2021</td>\n",
       "      <td>E-Kart</td>\n",
       "      <td>4</td>\n",
       "      <td>Mumbai</td>\n",
       "      <td>winter</td>\n",
       "      <td>19</td>\n",
       "      <td>yes</td>\n",
       "      <td>25357</td>\n",
       "      <td>125.357</td>\n",
       "    </tr>\n",
       "    <tr>\n",
       "      <th>3</th>\n",
       "      <td>01/04/2021</td>\n",
       "      <td>E-Kart</td>\n",
       "      <td>4</td>\n",
       "      <td>Mumbai</td>\n",
       "      <td>winter</td>\n",
       "      <td>18</td>\n",
       "      <td>no</td>\n",
       "      <td>25357</td>\n",
       "      <td>121.357</td>\n",
       "    </tr>\n",
       "    <tr>\n",
       "      <th>4</th>\n",
       "      <td>01/05/2021</td>\n",
       "      <td>E-Kart</td>\n",
       "      <td>4</td>\n",
       "      <td>Mumbai</td>\n",
       "      <td>winter</td>\n",
       "      <td>16</td>\n",
       "      <td>no</td>\n",
       "      <td>25357</td>\n",
       "      <td>113.357</td>\n",
       "    </tr>\n",
       "  </tbody>\n",
       "</table>\n",
       "</div>"
      ],
      "text/plain": [
       "         Date Logistic Partner   Distance in km    City weather   Wieght  \\\n",
       "0  01/01/2021            E-Kart               4  Mumbai   winter      25   \n",
       "1  01/02/2021            E-Kart               4  Mumbai   winter      20   \n",
       "2  01/03/2021            E-Kart               4  Mumbai   winter      19   \n",
       "3  01/04/2021            E-Kart               4  Mumbai   winter      18   \n",
       "4  01/05/2021            E-Kart               4  Mumbai   winter      16   \n",
       "\n",
       "  Holiday  Population Density  Charge / Cost in Rupees  \n",
       "0      no               25357                  149.357  \n",
       "1      no               25357                  129.357  \n",
       "2     yes               25357                  125.357  \n",
       "3      no               25357                  121.357  \n",
       "4      no               25357                  113.357  "
      ]
     },
     "execution_count": 3,
     "metadata": {},
     "output_type": "execute_result"
    }
   ],
   "source": [
    "logistic_dataset = pd.read_csv(\"stores_inventory_Logistic.csv\")\n",
    "logistic_dataset.head()"
   ]
  },
  {
   "cell_type": "code",
   "execution_count": 4,
   "metadata": {},
   "outputs": [
    {
     "data": {
      "text/plain": [
       "(2190, 9)"
      ]
     },
     "execution_count": 4,
     "metadata": {},
     "output_type": "execute_result"
    }
   ],
   "source": [
    "logistic_dataset.shape"
   ]
  },
  {
   "cell_type": "code",
   "execution_count": 5,
   "metadata": {},
   "outputs": [
    {
     "data": {
      "text/plain": [
       "Index(['Date', 'Logistic Partner ', 'Distance in km', 'City', 'weather ',\n",
       "       'Wieght', 'Holiday', 'Population Density', 'Charge / Cost in Rupees'],\n",
       "      dtype='object')"
      ]
     },
     "execution_count": 5,
     "metadata": {},
     "output_type": "execute_result"
    }
   ],
   "source": [
    "logistic_dataset.columns"
   ]
  },
  {
   "cell_type": "code",
   "execution_count": 6,
   "metadata": {},
   "outputs": [
    {
     "data": {
      "text/plain": [
       "E-Kart     730\n",
       "E-Com      730\n",
       "E-Dlvry    730\n",
       "Name: Logistic Partner , dtype: int64"
      ]
     },
     "execution_count": 6,
     "metadata": {},
     "output_type": "execute_result"
    }
   ],
   "source": [
    "logistic_dataset[\"Logistic Partner \"].value_counts()"
   ]
  },
  {
   "cell_type": "code",
   "execution_count": 7,
   "metadata": {},
   "outputs": [
    {
     "data": {
      "text/plain": [
       "Mumbai     1095\n",
       "Kolkata    1095\n",
       "Name: City, dtype: int64"
      ]
     },
     "execution_count": 7,
     "metadata": {},
     "output_type": "execute_result"
    }
   ],
   "source": [
    "logistic_dataset[\"City\"].value_counts()"
   ]
  },
  {
   "cell_type": "code",
   "execution_count": 8,
   "metadata": {},
   "outputs": [
    {
     "data": {
      "text/plain": [
       "summer    732\n",
       "winter    567\n",
       "Rainy     369\n",
       "rainy     369\n",
       "Mumbai    153\n",
       "Name: weather , dtype: int64"
      ]
     },
     "execution_count": 8,
     "metadata": {},
     "output_type": "execute_result"
    }
   ],
   "source": [
    "logistic_dataset[\"weather \"].value_counts()"
   ]
  },
  {
   "cell_type": "code",
   "execution_count": 11,
   "metadata": {},
   "outputs": [
    {
     "data": {
      "text/plain": [
       "rainy     738\n",
       "summer    732\n",
       "winter    720\n",
       "Name: weather , dtype: int64"
      ]
     },
     "execution_count": 11,
     "metadata": {},
     "output_type": "execute_result"
    }
   ],
   "source": [
    "logistic_dataset['weather '] = logistic_dataset['weather '].apply(lambda x: \"rainy\" if x == \"Rainy\" else x)\n",
    "logistic_dataset['weather '] = logistic_dataset['weather '].apply(lambda x: \"winter\" if x == \"Mumbai\" else x)\n",
    "logistic_dataset[\"weather \"].value_counts()"
   ]
  },
  {
   "cell_type": "code",
   "execution_count": 12,
   "metadata": {},
   "outputs": [
    {
     "data": {
      "text/plain": [
       "no     1734\n",
       "yes     456\n",
       "Name: Holiday, dtype: int64"
      ]
     },
     "execution_count": 12,
     "metadata": {},
     "output_type": "execute_result"
    }
   ],
   "source": [
    "logistic_dataset[\"Holiday\"].value_counts()"
   ]
  },
  {
   "cell_type": "code",
   "execution_count": 13,
   "metadata": {},
   "outputs": [],
   "source": [
    "E_Kart_dataset = logistic_dataset[logistic_dataset[\"Logistic Partner \"] == \"E-Kart\"]\n",
    "E_Com_dataset = logistic_dataset[logistic_dataset[\"Logistic Partner \"] == \"E-Com\"]\n",
    "E_Dlvry_dataset = logistic_dataset[logistic_dataset[\"Logistic Partner \"] == \"E-Dlvry\"]\n",
    "\n",
    "\n",
    "E_Kart_dataset.reset_index(inplace = True, drop = True)\n",
    "E_Com_dataset.reset_index(inplace = True, drop = True)\n",
    "E_Dlvry_dataset.reset_index(inplace = True, drop = True)"
   ]
  },
  {
   "cell_type": "code",
   "execution_count": 17,
   "metadata": {},
   "outputs": [],
   "source": [
    "if not os.path.exists(\"logistic_data\"):\n",
    "    os.mkdir(\"logistic_data\")"
   ]
  },
  {
   "cell_type": "code",
   "execution_count": null,
   "metadata": {},
   "outputs": [],
   "source": [
    "E_Kart_dataset.to_csv(os.path.join(\"logistic_data\",\"E-Kart.csv\"), index=False)\n",
    "E_Com_dataset.to_csv(os.path.join(\"logistic_data\",\"E-Com.csv\"), index=False)\n",
    "E_Dlvry_dataset.to_csv(os.path.join(\"logistic_data\",\"E-Dlvry.csv\"), index=False)"
   ]
  }
 ],
 "metadata": {
  "interpreter": {
   "hash": "9d2692ed14010a61cb9631afd12649edd266d6b70181e15da634d08950130c2c"
  },
  "kernelspec": {
   "display_name": "Python 3.9.8 64-bit ('venv': venv)",
   "language": "python",
   "name": "python3"
  },
  "language_info": {
   "codemirror_mode": {
    "name": "ipython",
    "version": 3
   },
   "file_extension": ".py",
   "mimetype": "text/x-python",
   "name": "python",
   "nbconvert_exporter": "python",
   "pygments_lexer": "ipython3",
   "version": "3.9.8"
  },
  "orig_nbformat": 4
 },
 "nbformat": 4,
 "nbformat_minor": 2
}
