{
 "cells": [
  {
   "cell_type": "markdown",
   "metadata": {},
   "source": [
    "*Importing Libraries*"
   ]
  },
  {
   "cell_type": "code",
   "execution_count": 23,
   "metadata": {},
   "outputs": [],
   "source": [
    "import pandas as pd\n",
    "import os"
   ]
  },
  {
   "cell_type": "markdown",
   "metadata": {},
   "source": [
    "*Moving to data Folder*"
   ]
  },
  {
   "cell_type": "code",
   "execution_count": 2,
   "metadata": {},
   "outputs": [
    {
     "name": "stdout",
     "output_type": "stream",
     "text": [
      "/Users/mubasir/Desktop/ONDC-hackathon\n",
      "/Users/mubasir/Desktop/ONDC-hackathon/data\n",
      "stores_inventory-Sheet.csv\n"
     ]
    }
   ],
   "source": [
    "#Run this shell once\n",
    "%cd ../..\n",
    "%cd data\n",
    "!ls"
   ]
  },
  {
   "cell_type": "code",
   "execution_count": 49,
   "metadata": {},
   "outputs": [
    {
     "data": {
      "text/html": [
       "<div>\n",
       "<style scoped>\n",
       "    .dataframe tbody tr th:only-of-type {\n",
       "        vertical-align: middle;\n",
       "    }\n",
       "\n",
       "    .dataframe tbody tr th {\n",
       "        vertical-align: top;\n",
       "    }\n",
       "\n",
       "    .dataframe thead th {\n",
       "        text-align: right;\n",
       "    }\n",
       "</style>\n",
       "<table border=\"1\" class=\"dataframe\">\n",
       "  <thead>\n",
       "    <tr style=\"text-align: right;\">\n",
       "      <th></th>\n",
       "      <th>date</th>\n",
       "      <th>product name</th>\n",
       "      <th>p _ category</th>\n",
       "      <th>store_id</th>\n",
       "      <th>city / District</th>\n",
       "      <th>eonomical crisis</th>\n",
       "      <th>health crisis</th>\n",
       "      <th>festivals in region</th>\n",
       "      <th>weather</th>\n",
       "      <th>population density</th>\n",
       "      <th>lot size</th>\n",
       "    </tr>\n",
       "  </thead>\n",
       "  <tbody>\n",
       "    <tr>\n",
       "      <th>0</th>\n",
       "      <td>01/01/2020</td>\n",
       "      <td>Rice</td>\n",
       "      <td>Consumable</td>\n",
       "      <td>mum-str-1</td>\n",
       "      <td>Mumbai</td>\n",
       "      <td>Low</td>\n",
       "      <td>Low</td>\n",
       "      <td>New Year ,Makar Sankranti</td>\n",
       "      <td>Winter</td>\n",
       "      <td>25357</td>\n",
       "      <td>100.0</td>\n",
       "    </tr>\n",
       "    <tr>\n",
       "      <th>1</th>\n",
       "      <td>01/02/2020</td>\n",
       "      <td>Rice</td>\n",
       "      <td>Consumable</td>\n",
       "      <td>mum-str-1</td>\n",
       "      <td>Mumbai</td>\n",
       "      <td>Low</td>\n",
       "      <td>Low</td>\n",
       "      <td>NaN</td>\n",
       "      <td>Summer</td>\n",
       "      <td>25357</td>\n",
       "      <td>120.0</td>\n",
       "    </tr>\n",
       "    <tr>\n",
       "      <th>2</th>\n",
       "      <td>01/03/2020</td>\n",
       "      <td>Rice</td>\n",
       "      <td>Consumable</td>\n",
       "      <td>mum-str-1</td>\n",
       "      <td>Mumbai</td>\n",
       "      <td>Low</td>\n",
       "      <td>Medium</td>\n",
       "      <td>Gudhi Padwa</td>\n",
       "      <td>Summer</td>\n",
       "      <td>25357</td>\n",
       "      <td>130.0</td>\n",
       "    </tr>\n",
       "    <tr>\n",
       "      <th>3</th>\n",
       "      <td>01/04/2020</td>\n",
       "      <td>Rice</td>\n",
       "      <td>Consumable</td>\n",
       "      <td>mum-str-1</td>\n",
       "      <td>Mumbai</td>\n",
       "      <td>High</td>\n",
       "      <td>High</td>\n",
       "      <td>NaN</td>\n",
       "      <td>Summer</td>\n",
       "      <td>25357</td>\n",
       "      <td>150.0</td>\n",
       "    </tr>\n",
       "    <tr>\n",
       "      <th>4</th>\n",
       "      <td>01/05/2020</td>\n",
       "      <td>Rice</td>\n",
       "      <td>Consumable</td>\n",
       "      <td>mum-str-1</td>\n",
       "      <td>Mumbai</td>\n",
       "      <td>High</td>\n",
       "      <td>High</td>\n",
       "      <td>NaN</td>\n",
       "      <td>Summer</td>\n",
       "      <td>25357</td>\n",
       "      <td>145.0</td>\n",
       "    </tr>\n",
       "  </tbody>\n",
       "</table>\n",
       "</div>"
      ],
      "text/plain": [
       "         date product name p _ category   store_id city / District   \\\n",
       "0  01/01/2020         Rice   Consumable  mum-str-1           Mumbai   \n",
       "1  01/02/2020         Rice   Consumable  mum-str-1           Mumbai   \n",
       "2  01/03/2020         Rice   Consumable  mum-str-1           Mumbai   \n",
       "3  01/04/2020         Rice   Consumable  mum-str-1           Mumbai   \n",
       "4  01/05/2020         Rice   Consumable  mum-str-1           Mumbai   \n",
       "\n",
       "  eonomical crisis health crisis       festivals in region  weather  \\\n",
       "0              Low           Low  New Year ,Makar Sankranti  Winter   \n",
       "1              Low           Low                        NaN  Summer   \n",
       "2              Low        Medium                Gudhi Padwa  Summer   \n",
       "3             High          High                        NaN  Summer   \n",
       "4             High          High                        NaN  Summer   \n",
       "\n",
       "   population density  lot size   \n",
       "0               25357      100.0  \n",
       "1               25357      120.0  \n",
       "2               25357      130.0  \n",
       "3               25357      150.0  \n",
       "4               25357      145.0  "
      ]
     },
     "execution_count": 49,
     "metadata": {},
     "output_type": "execute_result"
    }
   ],
   "source": [
    "inventory_dataset = pd.read_csv(\"stores_inventory-Sheet.csv\")\n",
    "inventory_dataset.head()"
   ]
  },
  {
   "cell_type": "code",
   "execution_count": 50,
   "metadata": {},
   "outputs": [
    {
     "data": {
      "text/plain": [
       "Index(['date', 'product name', 'p _ category', 'store_id', 'city / District ',\n",
       "       'eonomical crisis', 'health crisis', 'festivals in region ', 'weather',\n",
       "       'population density', 'lot size '],\n",
       "      dtype='object')"
      ]
     },
     "execution_count": 50,
     "metadata": {},
     "output_type": "execute_result"
    }
   ],
   "source": [
    "inventory_dataset.columns"
   ]
  },
  {
   "cell_type": "markdown",
   "metadata": {},
   "source": [
    "*We have inventory data of two location*"
   ]
  },
  {
   "cell_type": "code",
   "execution_count": 51,
   "metadata": {},
   "outputs": [
    {
     "data": {
      "text/plain": [
       "Mumbai      216\n",
       "Kolkatta    216\n",
       "Name: city / District , dtype: int64"
      ]
     },
     "execution_count": 51,
     "metadata": {},
     "output_type": "execute_result"
    }
   ],
   "source": [
    "inventory_dataset['city / District '].value_counts()"
   ]
  },
  {
   "cell_type": "markdown",
   "metadata": {},
   "source": [
    "*We have inventory data of four Kirana stores* "
   ]
  },
  {
   "cell_type": "code",
   "execution_count": 52,
   "metadata": {},
   "outputs": [
    {
     "data": {
      "text/plain": [
       "mum-str-1    108\n",
       "kol-str-1    108\n",
       "mum-str-2    108\n",
       "kol-str-2    108\n",
       "Name: store_id, dtype: int64"
      ]
     },
     "execution_count": 52,
     "metadata": {},
     "output_type": "execute_result"
    }
   ],
   "source": [
    "inventory_dataset[\"store_id\"].value_counts()"
   ]
  },
  {
   "cell_type": "markdown",
   "metadata": {},
   "source": [
    "*We hace two stores from each location*"
   ]
  },
  {
   "cell_type": "code",
   "execution_count": 53,
   "metadata": {},
   "outputs": [
    {
     "data": {
      "text/plain": [
       "city / District   store_id \n",
       "Kolkatta          kol-str-1    108\n",
       "                  kol-str-2    108\n",
       "Mumbai            mum-str-1    108\n",
       "                  mum-str-2    108\n",
       "dtype: int64"
      ]
     },
     "execution_count": 53,
     "metadata": {},
     "output_type": "execute_result"
    }
   ],
   "source": [
    "inventory_dataset[['city / District ', 'store_id']].value_counts()"
   ]
  },
  {
   "cell_type": "markdown",
   "metadata": {},
   "source": [
    "*Extracting Each store data*"
   ]
  },
  {
   "cell_type": "code",
   "execution_count": 54,
   "metadata": {},
   "outputs": [
    {
     "data": {
      "text/plain": [
       "Consumable        288\n",
       "Non-Consumable    144\n",
       "Name: p _ category, dtype: int64"
      ]
     },
     "execution_count": 54,
     "metadata": {},
     "output_type": "execute_result"
    }
   ],
   "source": [
    "inventory_dataset['p _ category'] = inventory_dataset['p _ category'].apply(lambda x: \"Non-Consumable\" if x == \"Non Consumable\" else x)\n",
    "inventory_dataset[\"p _ category\"].value_counts()"
   ]
  },
  {
   "cell_type": "code",
   "execution_count": 55,
   "metadata": {},
   "outputs": [
    {
     "data": {
      "text/plain": [
       "Low       180\n",
       "High      144\n",
       "Medium    108\n",
       "Name: health crisis, dtype: int64"
      ]
     },
     "execution_count": 55,
     "metadata": {},
     "output_type": "execute_result"
    }
   ],
   "source": [
    "inventory_dataset['health crisis'] = inventory_dataset['health crisis'].apply(lambda x: \"High\" if x == \"HIgh\" else x)\n",
    "inventory_dataset[\"health crisis\"].value_counts()"
   ]
  },
  {
   "cell_type": "code",
   "execution_count": 46,
   "metadata": {},
   "outputs": [],
   "source": [
    "kolkata_store1_data = inventory_dataset[inventory_dataset[\"store_id\"] == \"kol-str-1\"]\n",
    "kolkata_store2_data = inventory_dataset[inventory_dataset[\"store_id\"] == \"kol-str-2\"]\n",
    "mumbai_store1_data = inventory_dataset[inventory_dataset[\"store_id\"] == \"mum-str-1\"]\n",
    "mumbai_store2_data = inventory_dataset[inventory_dataset[\"store_id\"] == \"mum-str-2\"]\n",
    "kolkata_store1_data.reset_index(inplace = True, drop = True)\n",
    "kolkata_store2_data.reset_index(inplace = True, drop = True)\n",
    "mumbai_store1_data.reset_index(inplace = True, drop = True)\n",
    "mumbai_store2_data.reset_index(inplace = True, drop = True)"
   ]
  },
  {
   "cell_type": "markdown",
   "metadata": {},
   "source": [
    "*Storing Each store's data into disk*"
   ]
  },
  {
   "cell_type": "code",
   "execution_count": 47,
   "metadata": {},
   "outputs": [],
   "source": [
    "if not os.path.exists(\"store_data\"):\n",
    "    os.mkdir(\"store_data\")"
   ]
  },
  {
   "cell_type": "code",
   "execution_count": 48,
   "metadata": {},
   "outputs": [],
   "source": [
    "kolkata_store1_data.to_csv(\"store_data/kol-str-1.csv\", index=False)\n",
    "kolkata_store2_data.to_csv(\"store_data/kol-str-2.csv\", index=False)\n",
    "mumbai_store1_data.to_csv(\"store_data/mum-str-1.csv\", index=False)\n",
    "mumbai_store2_data.to_csv(\"store_data/mum-str-2.csv\", index=False)"
   ]
  }
 ],
 "metadata": {
  "interpreter": {
   "hash": "6f23b5bf0b0c3e66e77173aeb45b0d749e310c8cc845306efdf7e23286583d60"
  },
  "kernelspec": {
   "display_name": "Python 3.6.10 64-bit ('3.6.10': pyenv)",
   "language": "python",
   "name": "python3"
  },
  "language_info": {
   "codemirror_mode": {
    "name": "ipython",
    "version": 3
   },
   "file_extension": ".py",
   "mimetype": "text/x-python",
   "name": "python",
   "nbconvert_exporter": "python",
   "pygments_lexer": "ipython3",
   "version": "3.9.8"
  },
  "orig_nbformat": 4
 },
 "nbformat": 4,
 "nbformat_minor": 2
}
