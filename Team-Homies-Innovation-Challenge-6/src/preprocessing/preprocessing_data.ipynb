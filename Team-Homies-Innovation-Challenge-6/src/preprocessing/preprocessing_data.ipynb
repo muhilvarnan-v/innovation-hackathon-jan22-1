{
 "cells": [
  {
   "cell_type": "code",
   "execution_count": 4,
   "metadata": {},
   "outputs": [],
   "source": [
    "import pandas as pd\n",
    "from matplotlib import pyplot\n",
    "import sklearn.metrics as metrics\n",
    "from sklearn.model_selection import GridSearchCV, TimeSeriesSplit\n",
    "from sklearn.ensemble import RandomForestRegressor\n",
    "import numpy as np\n",
    "from category_encoders import OneHotEncoder\n",
    "import pickle\n",
    "import os"
   ]
  },
  {
   "cell_type": "code",
   "execution_count": 5,
   "metadata": {},
   "outputs": [
    {
     "name": "stdout",
     "output_type": "stream",
     "text": [
      "/Users/mubasir/Desktop/ONDC-hackathon\n"
     ]
    }
   ],
   "source": [
    "%cd ../../"
   ]
  },
  {
   "cell_type": "code",
   "execution_count": 6,
   "metadata": {},
   "outputs": [
    {
     "data": {
      "text/html": [
       "<div>\n",
       "<style scoped>\n",
       "    .dataframe tbody tr th:only-of-type {\n",
       "        vertical-align: middle;\n",
       "    }\n",
       "\n",
       "    .dataframe tbody tr th {\n",
       "        vertical-align: top;\n",
       "    }\n",
       "\n",
       "    .dataframe thead th {\n",
       "        text-align: right;\n",
       "    }\n",
       "</style>\n",
       "<table border=\"1\" class=\"dataframe\">\n",
       "  <thead>\n",
       "    <tr style=\"text-align: right;\">\n",
       "      <th></th>\n",
       "      <th>date</th>\n",
       "      <th>product name</th>\n",
       "      <th>p _ category</th>\n",
       "      <th>store_id</th>\n",
       "      <th>city / District</th>\n",
       "      <th>eonomical crisis</th>\n",
       "      <th>health crisis</th>\n",
       "      <th>festivals in region</th>\n",
       "      <th>weather</th>\n",
       "      <th>population density</th>\n",
       "      <th>lot size</th>\n",
       "    </tr>\n",
       "  </thead>\n",
       "  <tbody>\n",
       "    <tr>\n",
       "      <th>0</th>\n",
       "      <td>01/01/2020</td>\n",
       "      <td>Rice</td>\n",
       "      <td>Consumable</td>\n",
       "      <td>kol-str-1</td>\n",
       "      <td>Kolkatta</td>\n",
       "      <td>Low</td>\n",
       "      <td>Low</td>\n",
       "      <td>New year</td>\n",
       "      <td>Winter</td>\n",
       "      <td>24760</td>\n",
       "      <td>120.0</td>\n",
       "    </tr>\n",
       "    <tr>\n",
       "      <th>1</th>\n",
       "      <td>01/02/2020</td>\n",
       "      <td>Rice</td>\n",
       "      <td>Consumable</td>\n",
       "      <td>kol-str-1</td>\n",
       "      <td>Kolkatta</td>\n",
       "      <td>Low</td>\n",
       "      <td>Low</td>\n",
       "      <td>NaN</td>\n",
       "      <td>Summer</td>\n",
       "      <td>24760</td>\n",
       "      <td>140.0</td>\n",
       "    </tr>\n",
       "    <tr>\n",
       "      <th>2</th>\n",
       "      <td>01/03/2020</td>\n",
       "      <td>Rice</td>\n",
       "      <td>Consumable</td>\n",
       "      <td>kol-str-1</td>\n",
       "      <td>Kolkatta</td>\n",
       "      <td>Low</td>\n",
       "      <td>Low</td>\n",
       "      <td>NaN</td>\n",
       "      <td>Summer</td>\n",
       "      <td>24760</td>\n",
       "      <td>130.0</td>\n",
       "    </tr>\n",
       "    <tr>\n",
       "      <th>3</th>\n",
       "      <td>01/04/2020</td>\n",
       "      <td>Rice</td>\n",
       "      <td>Consumable</td>\n",
       "      <td>kol-str-1</td>\n",
       "      <td>Kolkatta</td>\n",
       "      <td>Low</td>\n",
       "      <td>Medium</td>\n",
       "      <td>Holi</td>\n",
       "      <td>Summer</td>\n",
       "      <td>24760</td>\n",
       "      <td>130.0</td>\n",
       "    </tr>\n",
       "    <tr>\n",
       "      <th>4</th>\n",
       "      <td>01/05/2020</td>\n",
       "      <td>Rice</td>\n",
       "      <td>Consumable</td>\n",
       "      <td>kol-str-1</td>\n",
       "      <td>Kolkatta</td>\n",
       "      <td>Low</td>\n",
       "      <td>Medium</td>\n",
       "      <td>Eid</td>\n",
       "      <td>Summer</td>\n",
       "      <td>24760</td>\n",
       "      <td>140.0</td>\n",
       "    </tr>\n",
       "  </tbody>\n",
       "</table>\n",
       "</div>"
      ],
      "text/plain": [
       "         date product name p _ category   store_id city / District   \\\n",
       "0  01/01/2020         Rice   Consumable  kol-str-1         Kolkatta   \n",
       "1  01/02/2020         Rice   Consumable  kol-str-1         Kolkatta   \n",
       "2  01/03/2020         Rice   Consumable  kol-str-1         Kolkatta   \n",
       "3  01/04/2020         Rice   Consumable  kol-str-1         Kolkatta   \n",
       "4  01/05/2020         Rice   Consumable  kol-str-1         Kolkatta   \n",
       "\n",
       "  eonomical crisis health crisis festivals in region  weather  \\\n",
       "0              Low           Low            New year   Winter   \n",
       "1              Low           Low                  NaN  Summer   \n",
       "2              Low           Low                  NaN  Summer   \n",
       "3              Low        Medium                 Holi  Summer   \n",
       "4              Low        Medium                  Eid  Summer   \n",
       "\n",
       "   population density  lot size   \n",
       "0               24760      120.0  \n",
       "1               24760      140.0  \n",
       "2               24760      130.0  \n",
       "3               24760      130.0  \n",
       "4               24760      140.0  "
      ]
     },
     "execution_count": 6,
     "metadata": {},
     "output_type": "execute_result"
    }
   ],
   "source": [
    "kolkata_store1_data = pd.read_csv(os.path.join(\"data\", \"store_data\", \"kol-str-1.csv\"))\n",
    "kolkata_store1_data.head()"
   ]
  },
  {
   "cell_type": "code",
   "execution_count": 7,
   "metadata": {},
   "outputs": [
    {
     "data": {
      "text/html": [
       "<div>\n",
       "<style scoped>\n",
       "    .dataframe tbody tr th:only-of-type {\n",
       "        vertical-align: middle;\n",
       "    }\n",
       "\n",
       "    .dataframe tbody tr th {\n",
       "        vertical-align: top;\n",
       "    }\n",
       "\n",
       "    .dataframe thead th {\n",
       "        text-align: right;\n",
       "    }\n",
       "</style>\n",
       "<table border=\"1\" class=\"dataframe\">\n",
       "  <thead>\n",
       "    <tr style=\"text-align: right;\">\n",
       "      <th></th>\n",
       "      <th>date</th>\n",
       "      <th>product name</th>\n",
       "      <th>p _ category</th>\n",
       "      <th>store_id</th>\n",
       "      <th>city / District</th>\n",
       "      <th>eonomical crisis</th>\n",
       "      <th>health crisis</th>\n",
       "      <th>festivals in region</th>\n",
       "      <th>weather</th>\n",
       "      <th>population density</th>\n",
       "      <th>lot size</th>\n",
       "    </tr>\n",
       "  </thead>\n",
       "  <tbody>\n",
       "    <tr>\n",
       "      <th>0</th>\n",
       "      <td>01/01/2020</td>\n",
       "      <td>Rice</td>\n",
       "      <td>Consumable</td>\n",
       "      <td>kol-str-1</td>\n",
       "      <td>Kolkatta</td>\n",
       "      <td>Low</td>\n",
       "      <td>Low</td>\n",
       "      <td>New year</td>\n",
       "      <td>Winter</td>\n",
       "      <td>24760</td>\n",
       "      <td>120.00</td>\n",
       "    </tr>\n",
       "    <tr>\n",
       "      <th>60</th>\n",
       "      <td>01/01/2020</td>\n",
       "      <td>Sanitizer</td>\n",
       "      <td>Consumable</td>\n",
       "      <td>kol-str-1</td>\n",
       "      <td>Kolkatta</td>\n",
       "      <td>Low</td>\n",
       "      <td>Low</td>\n",
       "      <td>New year</td>\n",
       "      <td>Winter</td>\n",
       "      <td>24760</td>\n",
       "      <td>0.14</td>\n",
       "    </tr>\n",
       "    <tr>\n",
       "      <th>36</th>\n",
       "      <td>01/01/2020</td>\n",
       "      <td>Cold drink</td>\n",
       "      <td>Consumable</td>\n",
       "      <td>kol-str-1</td>\n",
       "      <td>Kolkatta</td>\n",
       "      <td>Low</td>\n",
       "      <td>Low</td>\n",
       "      <td>New year</td>\n",
       "      <td>Winter</td>\n",
       "      <td>24760</td>\n",
       "      <td>13.00</td>\n",
       "    </tr>\n",
       "    <tr>\n",
       "      <th>72</th>\n",
       "      <td>01/01/2020</td>\n",
       "      <td>Mask</td>\n",
       "      <td>Non-Consumable</td>\n",
       "      <td>kol-str-1</td>\n",
       "      <td>Kolkatta</td>\n",
       "      <td>Low</td>\n",
       "      <td>Low</td>\n",
       "      <td>New year</td>\n",
       "      <td>Winter</td>\n",
       "      <td>24760</td>\n",
       "      <td>1.50</td>\n",
       "    </tr>\n",
       "    <tr>\n",
       "      <th>84</th>\n",
       "      <td>01/01/2020</td>\n",
       "      <td>Soap</td>\n",
       "      <td>Consumable</td>\n",
       "      <td>kol-str-1</td>\n",
       "      <td>Kolkatta</td>\n",
       "      <td>Low</td>\n",
       "      <td>Low</td>\n",
       "      <td>New year</td>\n",
       "      <td>Winter</td>\n",
       "      <td>24760</td>\n",
       "      <td>9.00</td>\n",
       "    </tr>\n",
       "    <tr>\n",
       "      <th>...</th>\n",
       "      <td>...</td>\n",
       "      <td>...</td>\n",
       "      <td>...</td>\n",
       "      <td>...</td>\n",
       "      <td>...</td>\n",
       "      <td>...</td>\n",
       "      <td>...</td>\n",
       "      <td>...</td>\n",
       "      <td>...</td>\n",
       "      <td>...</td>\n",
       "      <td>...</td>\n",
       "    </tr>\n",
       "    <tr>\n",
       "      <th>71</th>\n",
       "      <td>01/12/2020</td>\n",
       "      <td>Sanitizer</td>\n",
       "      <td>Consumable</td>\n",
       "      <td>kol-str-1</td>\n",
       "      <td>Kolkatta</td>\n",
       "      <td>Medium</td>\n",
       "      <td>Low</td>\n",
       "      <td>Christmas</td>\n",
       "      <td>Winter</td>\n",
       "      <td>24760</td>\n",
       "      <td>0.12</td>\n",
       "    </tr>\n",
       "    <tr>\n",
       "      <th>35</th>\n",
       "      <td>01/12/2020</td>\n",
       "      <td>Sugar</td>\n",
       "      <td>Consumable</td>\n",
       "      <td>kol-str-1</td>\n",
       "      <td>Kolkatta</td>\n",
       "      <td>Medium</td>\n",
       "      <td>Low</td>\n",
       "      <td>Christmas</td>\n",
       "      <td>Winter</td>\n",
       "      <td>24760</td>\n",
       "      <td>21.00</td>\n",
       "    </tr>\n",
       "    <tr>\n",
       "      <th>59</th>\n",
       "      <td>01/12/2020</td>\n",
       "      <td>Tea</td>\n",
       "      <td>Consumable</td>\n",
       "      <td>kol-str-1</td>\n",
       "      <td>Kolkatta</td>\n",
       "      <td>Medium</td>\n",
       "      <td>Low</td>\n",
       "      <td>Christmas</td>\n",
       "      <td>Winter</td>\n",
       "      <td>24760</td>\n",
       "      <td>18.00</td>\n",
       "    </tr>\n",
       "    <tr>\n",
       "      <th>11</th>\n",
       "      <td>01/12/2020</td>\n",
       "      <td>Rice</td>\n",
       "      <td>Consumable</td>\n",
       "      <td>kol-str-1</td>\n",
       "      <td>Kolkatta</td>\n",
       "      <td>Medium</td>\n",
       "      <td>Low</td>\n",
       "      <td>Christmas</td>\n",
       "      <td>Winter</td>\n",
       "      <td>24760</td>\n",
       "      <td>150.00</td>\n",
       "    </tr>\n",
       "    <tr>\n",
       "      <th>107</th>\n",
       "      <td>01/12/2020</td>\n",
       "      <td>Umbrella</td>\n",
       "      <td>Non-Consumable</td>\n",
       "      <td>kol-str-1</td>\n",
       "      <td>Kolkatta</td>\n",
       "      <td>Medium</td>\n",
       "      <td>Low</td>\n",
       "      <td>Christmas</td>\n",
       "      <td>Winter</td>\n",
       "      <td>24760</td>\n",
       "      <td>0.00</td>\n",
       "    </tr>\n",
       "  </tbody>\n",
       "</table>\n",
       "<p>108 rows × 11 columns</p>\n",
       "</div>"
      ],
      "text/plain": [
       "           date product name    p _ category   store_id city / District   \\\n",
       "0    01/01/2020         Rice      Consumable  kol-str-1         Kolkatta   \n",
       "60   01/01/2020    Sanitizer      Consumable  kol-str-1         Kolkatta   \n",
       "36   01/01/2020   Cold drink      Consumable  kol-str-1         Kolkatta   \n",
       "72   01/01/2020         Mask  Non-Consumable  kol-str-1         Kolkatta   \n",
       "84   01/01/2020         Soap      Consumable  kol-str-1         Kolkatta   \n",
       "..          ...          ...             ...        ...              ...   \n",
       "71   01/12/2020    Sanitizer      Consumable  kol-str-1         Kolkatta   \n",
       "35   01/12/2020        Sugar      Consumable  kol-str-1         Kolkatta   \n",
       "59   01/12/2020          Tea      Consumable  kol-str-1         Kolkatta   \n",
       "11   01/12/2020         Rice      Consumable  kol-str-1         Kolkatta   \n",
       "107  01/12/2020    Umbrella   Non-Consumable  kol-str-1         Kolkatta   \n",
       "\n",
       "    eonomical crisis health crisis festivals in region  weather  \\\n",
       "0                Low           Low            New year   Winter   \n",
       "60               Low           Low            New year   Winter   \n",
       "36               Low           Low            New year   Winter   \n",
       "72               Low           Low            New year   Winter   \n",
       "84               Low           Low            New year   Winter   \n",
       "..               ...           ...                  ...     ...   \n",
       "71            Medium           Low            Christmas  Winter   \n",
       "35            Medium           Low            Christmas  Winter   \n",
       "59            Medium           Low            Christmas  Winter   \n",
       "11            Medium           Low            Christmas  Winter   \n",
       "107           Medium           Low            Christmas  Winter   \n",
       "\n",
       "     population density  lot size   \n",
       "0                 24760     120.00  \n",
       "60                24760       0.14  \n",
       "36                24760      13.00  \n",
       "72                24760       1.50  \n",
       "84                24760       9.00  \n",
       "..                  ...        ...  \n",
       "71                24760       0.12  \n",
       "35                24760      21.00  \n",
       "59                24760      18.00  \n",
       "11                24760     150.00  \n",
       "107               24760       0.00  \n",
       "\n",
       "[108 rows x 11 columns]"
      ]
     },
     "execution_count": 7,
     "metadata": {},
     "output_type": "execute_result"
    }
   ],
   "source": [
    "kolkata_store1_data.sort_values(by = [\"date\"], inplace=True)\n",
    "kolkata_store1_data"
   ]
  },
  {
   "cell_type": "code",
   "execution_count": 8,
   "metadata": {},
   "outputs": [
    {
     "data": {
      "text/html": [
       "<div>\n",
       "<style scoped>\n",
       "    .dataframe tbody tr th:only-of-type {\n",
       "        vertical-align: middle;\n",
       "    }\n",
       "\n",
       "    .dataframe tbody tr th {\n",
       "        vertical-align: top;\n",
       "    }\n",
       "\n",
       "    .dataframe thead th {\n",
       "        text-align: right;\n",
       "    }\n",
       "</style>\n",
       "<table border=\"1\" class=\"dataframe\">\n",
       "  <thead>\n",
       "    <tr style=\"text-align: right;\">\n",
       "      <th></th>\n",
       "      <th>product name</th>\n",
       "      <th>p _ category</th>\n",
       "      <th>eonomical crisis</th>\n",
       "      <th>health crisis</th>\n",
       "      <th>festivals in region</th>\n",
       "      <th>weather</th>\n",
       "      <th>population density</th>\n",
       "      <th>lot size</th>\n",
       "    </tr>\n",
       "  </thead>\n",
       "  <tbody>\n",
       "    <tr>\n",
       "      <th>0</th>\n",
       "      <td>Rice</td>\n",
       "      <td>Consumable</td>\n",
       "      <td>Low</td>\n",
       "      <td>Low</td>\n",
       "      <td>New year</td>\n",
       "      <td>Winter</td>\n",
       "      <td>24760</td>\n",
       "      <td>120.00</td>\n",
       "    </tr>\n",
       "    <tr>\n",
       "      <th>60</th>\n",
       "      <td>Sanitizer</td>\n",
       "      <td>Consumable</td>\n",
       "      <td>Low</td>\n",
       "      <td>Low</td>\n",
       "      <td>New year</td>\n",
       "      <td>Winter</td>\n",
       "      <td>24760</td>\n",
       "      <td>0.14</td>\n",
       "    </tr>\n",
       "    <tr>\n",
       "      <th>36</th>\n",
       "      <td>Cold drink</td>\n",
       "      <td>Consumable</td>\n",
       "      <td>Low</td>\n",
       "      <td>Low</td>\n",
       "      <td>New year</td>\n",
       "      <td>Winter</td>\n",
       "      <td>24760</td>\n",
       "      <td>13.00</td>\n",
       "    </tr>\n",
       "    <tr>\n",
       "      <th>72</th>\n",
       "      <td>Mask</td>\n",
       "      <td>Non-Consumable</td>\n",
       "      <td>Low</td>\n",
       "      <td>Low</td>\n",
       "      <td>New year</td>\n",
       "      <td>Winter</td>\n",
       "      <td>24760</td>\n",
       "      <td>1.50</td>\n",
       "    </tr>\n",
       "    <tr>\n",
       "      <th>84</th>\n",
       "      <td>Soap</td>\n",
       "      <td>Consumable</td>\n",
       "      <td>Low</td>\n",
       "      <td>Low</td>\n",
       "      <td>New year</td>\n",
       "      <td>Winter</td>\n",
       "      <td>24760</td>\n",
       "      <td>9.00</td>\n",
       "    </tr>\n",
       "    <tr>\n",
       "      <th>...</th>\n",
       "      <td>...</td>\n",
       "      <td>...</td>\n",
       "      <td>...</td>\n",
       "      <td>...</td>\n",
       "      <td>...</td>\n",
       "      <td>...</td>\n",
       "      <td>...</td>\n",
       "      <td>...</td>\n",
       "    </tr>\n",
       "    <tr>\n",
       "      <th>71</th>\n",
       "      <td>Sanitizer</td>\n",
       "      <td>Consumable</td>\n",
       "      <td>Medium</td>\n",
       "      <td>Low</td>\n",
       "      <td>Christmas</td>\n",
       "      <td>Winter</td>\n",
       "      <td>24760</td>\n",
       "      <td>0.12</td>\n",
       "    </tr>\n",
       "    <tr>\n",
       "      <th>35</th>\n",
       "      <td>Sugar</td>\n",
       "      <td>Consumable</td>\n",
       "      <td>Medium</td>\n",
       "      <td>Low</td>\n",
       "      <td>Christmas</td>\n",
       "      <td>Winter</td>\n",
       "      <td>24760</td>\n",
       "      <td>21.00</td>\n",
       "    </tr>\n",
       "    <tr>\n",
       "      <th>59</th>\n",
       "      <td>Tea</td>\n",
       "      <td>Consumable</td>\n",
       "      <td>Medium</td>\n",
       "      <td>Low</td>\n",
       "      <td>Christmas</td>\n",
       "      <td>Winter</td>\n",
       "      <td>24760</td>\n",
       "      <td>18.00</td>\n",
       "    </tr>\n",
       "    <tr>\n",
       "      <th>11</th>\n",
       "      <td>Rice</td>\n",
       "      <td>Consumable</td>\n",
       "      <td>Medium</td>\n",
       "      <td>Low</td>\n",
       "      <td>Christmas</td>\n",
       "      <td>Winter</td>\n",
       "      <td>24760</td>\n",
       "      <td>150.00</td>\n",
       "    </tr>\n",
       "    <tr>\n",
       "      <th>107</th>\n",
       "      <td>Umbrella</td>\n",
       "      <td>Non-Consumable</td>\n",
       "      <td>Medium</td>\n",
       "      <td>Low</td>\n",
       "      <td>Christmas</td>\n",
       "      <td>Winter</td>\n",
       "      <td>24760</td>\n",
       "      <td>0.00</td>\n",
       "    </tr>\n",
       "  </tbody>\n",
       "</table>\n",
       "<p>108 rows × 8 columns</p>\n",
       "</div>"
      ],
      "text/plain": [
       "    product name    p _ category eonomical crisis health crisis  \\\n",
       "0           Rice      Consumable              Low           Low   \n",
       "60     Sanitizer      Consumable              Low           Low   \n",
       "36    Cold drink      Consumable              Low           Low   \n",
       "72          Mask  Non-Consumable              Low           Low   \n",
       "84          Soap      Consumable              Low           Low   \n",
       "..           ...             ...              ...           ...   \n",
       "71     Sanitizer      Consumable           Medium           Low   \n",
       "35         Sugar      Consumable           Medium           Low   \n",
       "59           Tea      Consumable           Medium           Low   \n",
       "11          Rice      Consumable           Medium           Low   \n",
       "107    Umbrella   Non-Consumable           Medium           Low   \n",
       "\n",
       "    festivals in region  weather  population density  lot size   \n",
       "0              New year   Winter               24760     120.00  \n",
       "60             New year   Winter               24760       0.14  \n",
       "36             New year   Winter               24760      13.00  \n",
       "72             New year   Winter               24760       1.50  \n",
       "84             New year   Winter               24760       9.00  \n",
       "..                   ...     ...                 ...        ...  \n",
       "71             Christmas  Winter               24760       0.12  \n",
       "35             Christmas  Winter               24760      21.00  \n",
       "59             Christmas  Winter               24760      18.00  \n",
       "11             Christmas  Winter               24760     150.00  \n",
       "107            Christmas  Winter               24760       0.00  \n",
       "\n",
       "[108 rows x 8 columns]"
      ]
     },
     "execution_count": 8,
     "metadata": {},
     "output_type": "execute_result"
    }
   ],
   "source": [
    "data = kolkata_store1_data.drop(columns=[\"date\", \"store_id\", \"city / District \"])\n",
    "data"
   ]
  },
  {
   "cell_type": "code",
   "execution_count": 9,
   "metadata": {},
   "outputs": [],
   "source": [
    "train, test = data[:len(data)], data[:len(data)]"
   ]
  },
  {
   "cell_type": "code",
   "execution_count": 10,
   "metadata": {},
   "outputs": [],
   "source": [
    "train_X, ytrain = train.drop(columns=[\"lot size \"], axis=1), train[\"lot size \"]\n",
    "test_X, ytest = test.drop(columns=[\"lot size \"], axis=1), test[\"lot size \"]"
   ]
  },
  {
   "cell_type": "code",
   "execution_count": 11,
   "metadata": {},
   "outputs": [],
   "source": [
    "one_hot_encoder = OneHotEncoder().fit(train_X.drop(columns=[\"population density\"], axis=1))\n",
    "train_X_ohe = one_hot_encoder.transform(train_X.drop(columns=[\"population density\"], axis=1))\n",
    "test_X_ohe = one_hot_encoder.transform(test_X.drop(columns=[\"population density\"], axis=1))"
   ]
  },
  {
   "cell_type": "code",
   "execution_count": 12,
   "metadata": {},
   "outputs": [
    {
     "data": {
      "text/plain": [
       "array([ True,  True,  True,  True,  True,  True,  True,  True,  True,\n",
       "        True,  True,  True,  True,  True,  True,  True,  True,  True,\n",
       "        True,  True,  True,  True,  True,  True,  True,  True,  True])"
      ]
     },
     "execution_count": 12,
     "metadata": {},
     "output_type": "execute_result"
    }
   ],
   "source": [
    "train_X_ohe.columns == test_X_ohe.columns"
   ]
  },
  {
   "cell_type": "code",
   "execution_count": 13,
   "metadata": {},
   "outputs": [],
   "source": [
    "INDIA_POPULATION = 1300000000\n",
    "xtrain = pd.concat([train_X_ohe, train_X[\"population density\"]/INDIA_POPULATION], axis = 1)\n",
    "xtest = pd.concat([test_X_ohe, test_X[\"population density\"]/INDIA_POPULATION], axis = 1)"
   ]
  },
  {
   "cell_type": "code",
   "execution_count": 14,
   "metadata": {},
   "outputs": [],
   "source": [
    "filehandler = open(os.path.join(\"feature_encoder\",\"ohe_kol-str-1.obj\"),\"wb\")\n",
    "pickle.dump(one_hot_encoder,filehandler)\n",
    "filehandler.close()"
   ]
  },
  {
   "cell_type": "code",
   "execution_count": 15,
   "metadata": {},
   "outputs": [],
   "source": [
    "def regression_results(y_true, y_pred):\n",
    "    # Regression metrics\n",
    "    explained_variance=metrics.explained_variance_score(y_true, y_pred)\n",
    "    mean_absolute_error=metrics.mean_absolute_error(y_true, y_pred) \n",
    "    mse=metrics.mean_squared_error(y_true, y_pred) \n",
    "    mean_squared_log_error=metrics.mean_squared_log_error(y_true, y_pred)\n",
    "    median_absolute_error=metrics.median_absolute_error(y_true, y_pred)\n",
    "    r2=metrics.r2_score(y_true, y_pred)\n",
    "    print('explained_variance: ', round(explained_variance,4))    \n",
    "    print('mean_squared_log_error: ', round(mean_squared_log_error,4))\n",
    "    print('r2: ', round(r2,4))\n",
    "    print('MAE: ', round(mean_absolute_error,4))\n",
    "    print('MSE: ', round(mse,4))\n",
    "    print('RMSE: ', round(np.sqrt(mse),4))\n",
    "    "
   ]
  },
  {
   "cell_type": "code",
   "execution_count": null,
   "metadata": {},
   "outputs": [],
   "source": [
    "model = RandomForestRegressor()\n",
    "param_search = { \n",
    "    'n_estimators': [20, 50, 100],\n",
    "    'max_features': ['auto', 'sqrt', 'log2'],\n",
    "    'max_depth' : [i for i in range(5,15)]\n",
    "}\n",
    "tscv = TimeSeriesSplit(n_splits=10)\n",
    "gsearch = GridSearchCV(estimator=model, cv=tscv, param_grid=param_search, scoring = metrics.mean_squared_error)\n",
    "gsearch.fit(xtrain, ytrain)\n",
    "best_score = gsearch.best_score_\n",
    "best_model = gsearch.best_estimator_\n",
    "y_true = ytest.values\n",
    "y_pred = best_model.predict(xtest)\n",
    "regression_results(y_true, y_pred)"
   ]
  },
  {
   "cell_type": "code",
   "execution_count": 17,
   "metadata": {},
   "outputs": [],
   "source": [
    "model_handler = open(os.path.join(\"trained_models\",\"kol-str-1.pkl\"),\"wb\")\n",
    "pickle.dump(best_model,model_handler)\n",
    "model_handler.close()"
   ]
  },
  {
   "cell_type": "code",
   "execution_count": 18,
   "metadata": {},
   "outputs": [
    {
     "data": {
      "image/png": "[encoded data removed]",
      "text/plain": [
       "<Figure size 432x288 with 1 Axes>"
      ]
     },
     "metadata": {
      "needs_background": "light"
     },
     "output_type": "display_data"
    }
   ],
   "source": [
    "pyplot.plot(y_true)\n",
    "pyplot.show()"
   ]
  },
  {
   "cell_type": "code",
   "execution_count": 19,
   "metadata": {},
   "outputs": [
    {
     "data": {
      "image/png": "[encoded data removed]",
      "text/plain": [
       "<Figure size 432x288 with 1 Axes>"
      ]
     },
     "metadata": {
      "needs_background": "light"
     },
     "output_type": "display_data"
    }
   ],
   "source": [
    "pyplot.plot(y_pred, color='red')\n",
    "pyplot.show()"
   ]
  },
  {
   "cell_type": "code",
   "execution_count": 20,
   "metadata": {},
   "outputs": [
    {
     "data": {
      "image/png": "[encoded data removed]",
      "text/plain": [
       "<Figure size 432x288 with 1 Axes>"
      ]
     },
     "metadata": {
      "needs_background": "light"
     },
     "output_type": "display_data"
    }
   ],
   "source": [
    "pyplot.plot(y_true)\n",
    "pyplot.plot(y_pred, color='red')\n",
    "pyplot.show()"
   ]
  },
  {
   "cell_type": "code",
   "execution_count": 21,
   "metadata": {},
   "outputs": [
    {
     "data": {
      "text/plain": [
       "product name                  Rice\n",
       "p _ category            Consumable\n",
       "eonomical crisis               Low\n",
       "health crisis                  Low\n",
       "festivals in region      New year \n",
       "weather                     Winter\n",
       "population density           24760\n",
       "Name: 0, dtype: object"
      ]
     },
     "execution_count": 21,
     "metadata": {},
     "output_type": "execute_result"
    }
   ],
   "source": [
    "train_X.iloc[0]"
   ]
  },
  {
   "cell_type": "code",
   "execution_count": 22,
   "metadata": {},
   "outputs": [
    {
     "data": {
      "text/plain": [
       "120.0"
      ]
     },
     "execution_count": 22,
     "metadata": {},
     "output_type": "execute_result"
    }
   ],
   "source": [
    "ytrain.iloc[0]"
   ]
  },
  {
   "cell_type": "code",
   "execution_count": 23,
   "metadata": {},
   "outputs": [],
   "source": [
    "data_point = pd.DataFrame({\n",
    "    \"product name\":[\"Rice\"],\n",
    "    'p _ category': [\"Consumable\"], \n",
    "    'eonomical crisis': [\"Low\"], \n",
    "    'health crisis': [\"Low\"], \n",
    "    'festivals in region ': [\" New year \"], \n",
    "    'weather': [\"Winter\"],\n",
    "    'population density': [24760]\n",
    "})"
   ]
  },
  {
   "cell_type": "markdown",
   "metadata": {},
   "source": [
    "*Importing Saved Encoder*"
   ]
  },
  {
   "cell_type": "code",
   "execution_count": 24,
   "metadata": {},
   "outputs": [],
   "source": [
    "encoder_file = open(os.path.join(\"feature_encoder\",\"ohe_kol-str-1.obj\"),'rb')\n",
    "encoder_loaded = pickle.load(encoder_file)\n",
    "encoder_file.close()"
   ]
  },
  {
   "cell_type": "code",
   "execution_count": 25,
   "metadata": {},
   "outputs": [
    {
     "data": {
      "text/html": [
       "<div>\n",
       "<style scoped>\n",
       "    .dataframe tbody tr th:only-of-type {\n",
       "        vertical-align: middle;\n",
       "    }\n",
       "\n",
       "    .dataframe tbody tr th {\n",
       "        vertical-align: top;\n",
       "    }\n",
       "\n",
       "    .dataframe thead th {\n",
       "        text-align: right;\n",
       "    }\n",
       "</style>\n",
       "<table border=\"1\" class=\"dataframe\">\n",
       "  <thead>\n",
       "    <tr style=\"text-align: right;\">\n",
       "      <th></th>\n",
       "      <th>product name_1</th>\n",
       "      <th>product name_2</th>\n",
       "      <th>product name_3</th>\n",
       "      <th>product name_4</th>\n",
       "      <th>product name_5</th>\n",
       "      <th>product name_6</th>\n",
       "      <th>product name_7</th>\n",
       "      <th>product name_8</th>\n",
       "      <th>product name_9</th>\n",
       "      <th>p _ category_1</th>\n",
       "      <th>...</th>\n",
       "      <th>festivals in region _2</th>\n",
       "      <th>festivals in region _3</th>\n",
       "      <th>festivals in region _4</th>\n",
       "      <th>festivals in region _5</th>\n",
       "      <th>festivals in region _6</th>\n",
       "      <th>festivals in region _7</th>\n",
       "      <th>weather_1</th>\n",
       "      <th>weather_2</th>\n",
       "      <th>weather_3</th>\n",
       "      <th>population density</th>\n",
       "    </tr>\n",
       "  </thead>\n",
       "  <tbody>\n",
       "    <tr>\n",
       "      <th>0</th>\n",
       "      <td>1</td>\n",
       "      <td>0</td>\n",
       "      <td>0</td>\n",
       "      <td>0</td>\n",
       "      <td>0</td>\n",
       "      <td>0</td>\n",
       "      <td>0</td>\n",
       "      <td>0</td>\n",
       "      <td>0</td>\n",
       "      <td>1</td>\n",
       "      <td>...</td>\n",
       "      <td>0</td>\n",
       "      <td>0</td>\n",
       "      <td>0</td>\n",
       "      <td>0</td>\n",
       "      <td>0</td>\n",
       "      <td>0</td>\n",
       "      <td>1</td>\n",
       "      <td>0</td>\n",
       "      <td>0</td>\n",
       "      <td>0.000019</td>\n",
       "    </tr>\n",
       "  </tbody>\n",
       "</table>\n",
       "<p>1 rows × 28 columns</p>\n",
       "</div>"
      ],
      "text/plain": [
       "   product name_1  product name_2  product name_3  product name_4  \\\n",
       "0               1               0               0               0   \n",
       "\n",
       "   product name_5  product name_6  product name_7  product name_8  \\\n",
       "0               0               0               0               0   \n",
       "\n",
       "   product name_9  p _ category_1  ...  festivals in region _2  \\\n",
       "0               0               1  ...                       0   \n",
       "\n",
       "   festivals in region _3  festivals in region _4  festivals in region _5  \\\n",
       "0                       0                       0                       0   \n",
       "\n",
       "   festivals in region _6  festivals in region _7  weather_1  weather_2  \\\n",
       "0                       0                       0          1          0   \n",
       "\n",
       "   weather_3  population density  \n",
       "0          0            0.000019  \n",
       "\n",
       "[1 rows x 28 columns]"
      ]
     },
     "execution_count": 25,
     "metadata": {},
     "output_type": "execute_result"
    }
   ],
   "source": [
    "data_point_ohe = encoder_loaded.transform(data_point.drop(columns=[\"population density\"], axis=1))\n",
    "input_data_point = pd.concat([data_point_ohe, data_point[\"population density\"]/INDIA_POPULATION], axis = 1)\n",
    "input_data_point"
   ]
  },
  {
   "cell_type": "markdown",
   "metadata": {},
   "source": [
    "*Importing Saved Model*"
   ]
  },
  {
   "cell_type": "code",
   "execution_count": 26,
   "metadata": {},
   "outputs": [],
   "source": [
    "model_file = open(os.path.join(\"trained_models\",\"kol-str-1.pkl\"),'rb')\n",
    "model = pickle.load(model_file)\n",
    "model_file.close()"
   ]
  },
  {
   "cell_type": "code",
   "execution_count": 27,
   "metadata": {},
   "outputs": [
    {
     "data": {
      "text/plain": [
       "array([135.4672619])"
      ]
     },
     "execution_count": 27,
     "metadata": {},
     "output_type": "execute_result"
    }
   ],
   "source": [
    "model.predict(input_data_point)"
   ]
  }
 ],
 "metadata": {
  "interpreter": {
   "hash": "9d2692ed14010a61cb9631afd12649edd266d6b70181e15da634d08950130c2c"
  },
  "kernelspec": {
   "display_name": "Python 3.9.8 64-bit ('venv': venv)",
   "language": "python",
   "name": "python3"
  },
  "language_info": {
   "codemirror_mode": {
    "name": "ipython",
    "version": 3
   },
   "file_extension": ".py",
   "mimetype": "text/x-python",
   "name": "python",
   "nbconvert_exporter": "python",
   "pygments_lexer": "ipython3",
   "version": "3.9.7"
  },
  "orig_nbformat": 4
 },
 "nbformat": 4,
 "nbformat_minor": 2
}
